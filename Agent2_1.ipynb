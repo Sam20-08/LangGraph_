{
  "nbformat": 4,
  "nbformat_minor": 0,
  "metadata": {
    "colab": {
      "provenance": []
    },
    "kernelspec": {
      "name": "python3",
      "display_name": "Python 3"
    },
    "language_info": {
      "name": "python"
    }
  },
  "cells": [
    {
      "cell_type": "code",
      "source": [
        "from typing import TypedDict\n",
        "from langgraph.graph import StateGraph,START,END"
      ],
      "metadata": {
        "id": "fVgLxv83x6-X"
      },
      "execution_count": 1,
      "outputs": []
    },
    {
      "cell_type": "code",
      "source": [
        "class Agentstate(TypedDict):\n",
        "  num1:int\n",
        "  operation:str\n",
        "  num2:int\n",
        "  num3:int\n",
        "  operation_1:str\n",
        "  num4:int\n",
        "  final_number1:int\n",
        "  final_number2:int\n",
        ""
      ],
      "metadata": {
        "id": "idtYD4ZFyAsm"
      },
      "execution_count": 2,
      "outputs": []
    },
    {
      "cell_type": "code",
      "source": [
        "def add_node(state:Agentstate)->Agentstate:\n",
        "  state['final_number1']=state['num1']+state['num2']\n",
        "  return state\n",
        "\n",
        "def sub_node(state:Agentstate)->Agentstate:\n",
        "  state['final_number1']=state['num1']-state['num2']\n",
        "  return state\n",
        "\n",
        "def decision_making_node_1(state:Agentstate)->Agentstate:\n",
        "  if state['operation']=='+':\n",
        "    return 'addition'\n",
        "  elif state['operation']=='-':\n",
        "    return 'subtraction'\n",
        "\n",
        "def add_node_2(state:Agentstate)->Agentstate:\n",
        "  state['final_number2']=state['num3'] + state['num4']\n",
        "  return state\n",
        "\n",
        "def sub_node_2(state:Agentstate)->Agentstate:\n",
        "  state['final_number2']=state['num3']-state['num4']\n",
        "  return state\n",
        "\n",
        "def decision_making_node_2(state:Agentstate)->Agentstate:\n",
        "  if state['operation_1']=='+':\n",
        "    return \"addition_2\"\n",
        "  elif state['operation_1']=='-':\n",
        "    return \"subtraction_2\""
      ],
      "metadata": {
        "id": "prNqdTtl9h6e"
      },
      "execution_count": 3,
      "outputs": []
    },
    {
      "cell_type": "code",
      "source": [
        "graph=StateGraph(Agentstate)\n",
        "\n",
        "\n",
        "\n",
        "graph.add_node(\"adder\",add_node)\n",
        "graph.add_node(\"subtractor\",sub_node)\n",
        "graph.add_node(\"router\",lambda state:state)\n",
        "\n",
        "graph.add_node(\"add_node_2\",add_node_2)\n",
        "graph.add_node(\"sub_node_2\",sub_node_2)\n",
        "graph.add_node(\"router_1\",lambda state:state)\n",
        "\n",
        "graph.add_edge(START,\"router\")\n",
        "\n",
        "\n",
        "graph.add_conditional_edges(\n",
        "    \"router\",\n",
        "    decision_making_node_1,\n",
        "    {\n",
        "        \"addition\":\"adder\",\n",
        "        \"subtraction\":\"subtractor\"\n",
        "    }\n",
        ")\n",
        "\n",
        "\n",
        "\n",
        "graph.add_edge(\"adder\",\"router_1\")\n",
        "graph.add_edge(\"subtractor\",\"router_1\")\n",
        "\n",
        "graph.add_conditional_edges(\n",
        "    \"router_1\",\n",
        "    decision_making_node_2,\n",
        "    {\n",
        "        \"addition_2\":\"add_node_2\",\n",
        "        \"subtraction_2\":\"sub_node_2\"\n",
        "    }\n",
        ")\n",
        "\n",
        "graph.add_edge('add_node_2',END)\n",
        "graph.add_edge('sub_node_2',END)"
      ],
      "metadata": {
        "colab": {
          "base_uri": "https://localhost:8080/"
        },
        "id": "wLTgS_ts9k--",
        "outputId": "4600b0d2-bb43-41c8-e5a6-819bd698331b"
      },
      "execution_count": 4,
      "outputs": [
        {
          "output_type": "execute_result",
          "data": {
            "text/plain": [
              "<langgraph.graph.state.StateGraph at 0x7fb604438a50>"
            ]
          },
          "metadata": {},
          "execution_count": 4
        }
      ]
    },
    {
      "cell_type": "code",
      "source": [
        "app=graph.compile()"
      ],
      "metadata": {
        "id": "dfseagnRAs9S"
      },
      "execution_count": 5,
      "outputs": []
    },
    {
      "cell_type": "code",
      "source": [
        "from IPython.display import Image, display\n",
        "display(Image(app.get_graph().draw_mermaid_png()))"
      ],
      "metadata": {
        "colab": {
          "base_uri": "https://localhost:8080/",
          "height": 596
        },
        "id": "ea77HRsBBSMt",
        "outputId": "5b3a9f9a-9ec3-4e3a-ca88-a41874258afa"
      },
      "execution_count": 6,
      "outputs": [
        {
          "output_type": "display_data",
          "data": {
            "image/png": "[encoded data removed]",
            "text/plain": [
              "<IPython.core.display.Image object>"
            ]
          },
          "metadata": {}
        }
      ]
    },
    {
      "cell_type": "code",
      "source": [
        "initial_state = Agentstate(num1 = 10, operation=\"-\", num2 = 5, num3 = 7, num4=2, operation_1=\"+\", finalNumber= 0, finalNumber2 = 0)"
      ],
      "metadata": {
        "id": "-aC6xEqzBxao"
      },
      "execution_count": 7,
      "outputs": []
    },
    {
      "cell_type": "code",
      "source": [
        "print(app.invoke(initial_state))"
      ],
      "metadata": {
        "colab": {
          "base_uri": "https://localhost:8080/"
        },
        "id": "WwvUzWWAB1LY",
        "outputId": "cc912813-b9a9-4607-9469-99820ca59088"
      },
      "execution_count": 8,
      "outputs": [
        {
          "output_type": "stream",
          "name": "stdout",
          "text": [
            "{'num1': 10, 'operation': '-', 'num2': 5, 'num3': 7, 'operation_1': '+', 'num4': 2, 'final_number1': 5, 'final_number2': 9}\n"
          ]
        }
      ]
    },
    {
      "cell_type": "code",
      "source": [],
      "metadata": {
        "id": "KSye2XzwCAkS"
      },
      "execution_count": 8,
      "outputs": []
    }
  ]
}