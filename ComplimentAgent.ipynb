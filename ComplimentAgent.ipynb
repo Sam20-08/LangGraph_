{
  "nbformat": 4,
  "nbformat_minor": 0,
  "metadata": {
    "colab": {
      "provenance": []
    },
    "kernelspec": {
      "name": "python3",
      "display_name": "Python 3"
    },
    "language_info": {
      "name": "python"
    }
  },
  "cells": [
    {
      "cell_type": "code",
      "execution_count": 1,
      "metadata": {
        "id": "B52fbYTVFowJ"
      },
      "outputs": [],
      "source": [
        "from typing import Dict,TypedDict\n",
        "from langgraph.graph import StateGraph"
      ]
    },
    {
      "cell_type": "code",
      "source": [
        "class Agentstate(TypedDict):\n",
        "  message:str\n",
        "\n",
        "def compliment_node(state:Agentstate)->Agentstate:\n",
        "  state[\"message\"]=state[\"message\"]+ \" \" +\",You are doing great !\"\n",
        "  return state"
      ],
      "metadata": {
        "id": "9KyhFkYRFtBh"
      },
      "execution_count": 2,
      "outputs": []
    },
    {
      "cell_type": "code",
      "source": [
        "graph=StateGraph(Agentstate)\n",
        "\n",
        "graph.add_node(\"Compliment\",compliment_node)\n",
        "graph.set_entry_point(\"Compliment\")\n",
        "graph.set_finish_point(\"Compliment\")"
      ],
      "metadata": {
        "colab": {
          "base_uri": "https://localhost:8080/"
        },
        "id": "wVK5O-CIGRhj",
        "outputId": "ffd22420-2ef0-44cf-f9a9-1e51d8b89bbe"
      },
      "execution_count": 3,
      "outputs": [
        {
          "output_type": "execute_result",
          "data": {
            "text/plain": [
              "<langgraph.graph.state.StateGraph at 0x7d49fd170050>"
            ]
          },
          "metadata": {},
          "execution_count": 3
        }
      ]
    },
    {
      "cell_type": "code",
      "source": [
        "graph.compile()"
      ],
      "metadata": {
        "colab": {
          "base_uri": "https://localhost:8080/",
          "height": 251
        },
        "id": "wujR1nfCGbM_",
        "outputId": "5512f8a1-0dd1-4efb-babb-c67d22b34d57"
      },
      "execution_count": 4,
      "outputs": [
        {
          "output_type": "execute_result",
          "data": {
            "text/plain": [
              "<langgraph.graph.state.CompiledStateGraph object at 0x7d49fd172250>"
            ],
            "image/png": "[encoded data removed]"
          },
          "metadata": {},
          "execution_count": 4
        }
      ]
    },
    {
      "cell_type": "code",
      "source": [
        "app=graph.compile()\n",
        "\n",
        "app.invoke({\"message\":\"Sam\"})"
      ],
      "metadata": {
        "colab": {
          "base_uri": "https://localhost:8080/"
        },
        "id": "8J_mA5GpGvX9",
        "outputId": "8b00b84b-f43a-4c68-e83e-cd10ba1617e1"
      },
      "execution_count": 5,
      "outputs": [
        {
          "output_type": "execute_result",
          "data": {
            "text/plain": [
              "{'message': 'Sam ,You are doing great !'}"
            ]
          },
          "metadata": {},
          "execution_count": 5
        }
      ]
    },
    {
      "cell_type": "code",
      "source": [],
      "metadata": {
        "id": "A3bTmxGrHGiA"
      },
      "execution_count": 5,
      "outputs": []
    }
  ]
}