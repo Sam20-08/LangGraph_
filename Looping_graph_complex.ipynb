{
  "nbformat": 4,
  "nbformat_minor": 0,
  "metadata": {
    "colab": {
      "provenance": []
    },
    "kernelspec": {
      "name": "python3",
      "display_name": "Python 3"
    },
    "language_info": {
      "name": "python"
    }
  },
  "cells": [
    {
      "cell_type": "code",
      "source": [
        "from typing import TypedDict,List\n",
        "from langgraph.graph import StateGraph,START,END\n",
        "import random"
      ],
      "metadata": {
        "id": "UbwBSRYZqTZA"
      },
      "execution_count": 1,
      "outputs": []
    },
    {
      "cell_type": "code",
      "source": [
        "class Agentstate(TypedDict):\n",
        "  player_name:str\n",
        "  guess:List[int]\n",
        "  attempts:int\n",
        "  lower_bound:int\n",
        "  upper_bound:int\n",
        "  hint:str\n",
        "  target_number:int"
      ],
      "metadata": {
        "id": "eLgMy4wzqcIk"
      },
      "execution_count": 2,
      "outputs": []
    },
    {
      "cell_type": "code",
      "source": [
        "def setup(state:Agentstate)->Agentstate:\n",
        "  state[\"player_name\"] = f\"Welcome, {state['player_name']}!\"\n",
        "  state['attempts']=0\n",
        "  state['lower_bound']=1\n",
        "  state['upper_bound']=20\n",
        "  state['target_number']=random.randint(state['lower_bound'],state['upper_bound'])\n",
        "  state['guess']=[]\n",
        "  state['hint']='None'\n",
        "  print(f\"{state['player_name']} The game has begun. I'm thinking of a number between 1 and 20.\")\n",
        "  return state"
      ],
      "metadata": {
        "id": "CWwuDgYMqxmM"
      },
      "execution_count": 3,
      "outputs": []
    },
    {
      "cell_type": "code",
      "source": [
        "def guesses(state:Agentstate)->Agentstate:\n",
        "  possible_guess={i for i in range(state['lower_bound'],state['upper_bound']+1) if i not in state['guess']}\n",
        "\n",
        "  if possible_guess:\n",
        "    guess = random.choice(list(possible_guess))\n",
        "  else:\n",
        "    guess=random.randint(state['lower_bound'],state['upper_bound'])\n",
        "\n",
        "  state['guess'].append(guess)\n",
        "  state['attempts']+=1\n",
        "  print(f\"Attempt {state['attempts']}: Guessing {guess} (Current range: {state['lower_bound']}-{state['upper_bound']})\")\n",
        "  return state"
      ],
      "metadata": {
        "id": "Fol0toayrP-g"
      },
      "execution_count": 4,
      "outputs": []
    },
    {
      "cell_type": "code",
      "source": [
        "def hint_node(state:Agentstate)->Agentstate:\n",
        "  latest_guess=state['guess'][-1]\n",
        "  target=state['target_number']\n",
        "\n",
        "  if latest_guess < target:\n",
        "    state['hint']=f\"The number {latest_guess} is too low\"\n",
        "    state['lower_bound']=max(state['lower_bound'],latest_guess+1)\n",
        "    print(f\"Hint: {state['hint']}\")\n",
        "\n",
        "  elif latest_guess>target:\n",
        "    state['hint']=f\"The number {latest_guess} is too high\"\n",
        "    state['upper_bound']=min(state['upper_bound'],latest_guess-1)\n",
        "    print(f\"Hint: {state['hint']}\")\n",
        "\n",
        "  else:\n",
        "    state['hint']=f\"Congratulations! You guessed the number {target} in {state['attempts']} attempts.\"\n",
        "  return state"
      ],
      "metadata": {
        "id": "dopLd9M_t3o5"
      },
      "execution_count": 5,
      "outputs": []
    },
    {
      "cell_type": "code",
      "source": [
        "def should_continue(state:Agentstate)->Agentstate:\n",
        "  latest_guess=state['guess'][-1]\n",
        "\n",
        "  if latest_guess==state['target_number']:\n",
        "    print(f\"You found the answer in {state['attempts']} attempts!\")\n",
        "    return \"end\"\n",
        "\n",
        "  elif state['attempts']>=7:\n",
        "    print(f\"GAME OVER: Maximum attempts reached! The number was {state['target_number']}\")\n",
        "    return \"end\"\n",
        "\n",
        "  else:\n",
        "    print(f\"CONTINUING: {state['attempts']}/7 attempts used\")\n",
        "    return \"continue\""
      ],
      "metadata": {
        "id": "bsjv_JhSu-o4"
      },
      "execution_count": 6,
      "outputs": []
    },
    {
      "cell_type": "code",
      "source": [
        "graph=StateGraph(Agentstate)"
      ],
      "metadata": {
        "id": "5TWIqdgbvp3L"
      },
      "execution_count": 7,
      "outputs": []
    },
    {
      "cell_type": "code",
      "source": [
        "graph.set_entry_point(\"setup\")\n",
        "graph.add_node(\"setup\",setup)\n",
        "graph.add_node(\"guesses\",guesses)\n",
        "graph.add_node(\"hint_node\",hint_node)\n",
        "\n",
        "graph.add_edge(\"setup\",\"guesses\")\n",
        "graph.add_edge(\"guesses\",\"hint_node\")\n",
        "\n",
        "graph.add_conditional_edges(\n",
        "    \"hint_node\",\n",
        "    should_continue,\n",
        "    {\n",
        "        \"continue\":\"guesses\",\n",
        "        \"end\":END\n",
        "    }\n",
        ")\n"
      ],
      "metadata": {
        "colab": {
          "base_uri": "https://localhost:8080/"
        },
        "id": "Q8m9sQrcvu9V",
        "outputId": "2f5f0f45-866f-42a5-f4db-9c841ec6e86d"
      },
      "execution_count": 8,
      "outputs": [
        {
          "output_type": "execute_result",
          "data": {
            "text/plain": [
              "<langgraph.graph.state.StateGraph at 0x784bdd993550>"
            ]
          },
          "metadata": {},
          "execution_count": 8
        }
      ]
    },
    {
      "cell_type": "code",
      "source": [
        "app=graph.compile()"
      ],
      "metadata": {
        "id": "SUGvwB_zwbZG"
      },
      "execution_count": 9,
      "outputs": []
    },
    {
      "cell_type": "code",
      "source": [
        "from IPython.display import Image, display\n",
        "display(Image(app.get_graph().draw_mermaid_png()))"
      ],
      "metadata": {
        "colab": {
          "base_uri": "https://localhost:8080/",
          "height": 497
        },
        "id": "R7ZYCA2rwofj",
        "outputId": "186df2a3-54d8-46d3-c697-b9e43762ec63"
      },
      "execution_count": 10,
      "outputs": [
        {
          "output_type": "display_data",
          "data": {
            "image/png": "[encoded data removed]",
            "text/plain": [
              "<IPython.core.display.Image object>"
            ]
          },
          "metadata": {}
        }
      ]
    },
    {
      "cell_type": "code",
      "source": [
        "result = app.invoke({\"player_name\": \"Student\", \"guesses\": [], \"attempts\": 0, \"lower_bound\": 1, \"upper_bound\": 20})"
      ],
      "metadata": {
        "colab": {
          "base_uri": "https://localhost:8080/"
        },
        "id": "bxCQKZuGw2GU",
        "outputId": "19d6071c-f33b-4237-8c51-4c4cddc301a1"
      },
      "execution_count": 11,
      "outputs": [
        {
          "output_type": "stream",
          "name": "stdout",
          "text": [
            "Welcome, Student! The game has begun. I'm thinking of a number between 1 and 20.\n",
            "Attempt 1: Guessing 18 (Current range: 1-20)\n",
            "Hint: The number 18 is too high\n",
            "CONTINUING: 1/7 attempts used\n",
            "Attempt 2: Guessing 7 (Current range: 1-17)\n",
            "Hint: The number 7 is too low\n",
            "CONTINUING: 2/7 attempts used\n",
            "Attempt 3: Guessing 13 (Current range: 8-17)\n",
            "Hint: The number 13 is too high\n",
            "CONTINUING: 3/7 attempts used\n",
            "Attempt 4: Guessing 9 (Current range: 8-12)\n",
            "Hint: The number 9 is too low\n",
            "CONTINUING: 4/7 attempts used\n",
            "Attempt 5: Guessing 12 (Current range: 10-12)\n",
            "Hint: The number 12 is too high\n",
            "CONTINUING: 5/7 attempts used\n",
            "Attempt 6: Guessing 10 (Current range: 10-11)\n",
            "You found the answer in 6 attempts!\n"
          ]
        }
      ]
    },
    {
      "cell_type": "code",
      "source": [],
      "metadata": {
        "id": "2rKlGmISw5mK"
      },
      "execution_count": 11,
      "outputs": []
    }
  ]
}