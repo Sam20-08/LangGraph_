{
  "nbformat": 4,
  "nbformat_minor": 0,
  "metadata": {
    "colab": {
      "provenance": []
    },
    "kernelspec": {
      "name": "python3",
      "display_name": "Python 3"
    },
    "language_info": {
      "name": "python"
    }
  },
  "cells": [
    {
      "cell_type": "markdown",
      "source": [
        "## Objectives\n",
        "- Use different message types Human message and AI message\n",
        "- Maintain a full conversation history using both message types\n",
        "- use gpt 4o model using langchain chatopen AI\n",
        "- create a sophisticated conversation loop\n",
        "\n",
        "#### Main goal - create a agent with memory"
      ],
      "metadata": {
        "id": "2baFQj5j9ZG3"
      }
    },
    {
      "cell_type": "code",
      "source": [
        "!pip install langchain_groq langgraph"
      ],
      "metadata": {
        "colab": {
          "base_uri": "https://localhost:8080/"
        },
        "id": "hnmI3jhmqbqs",
        "outputId": "65cbbaee-7db6-431f-a200-31c8bed7d85e"
      },
      "execution_count": 1,
      "outputs": [
        {
          "output_type": "stream",
          "name": "stdout",
          "text": [
            "Collecting langchain_groq\n",
            "  Downloading langchain_groq-0.3.2-py3-none-any.whl.metadata (2.6 kB)\n",
            "Collecting langgraph\n",
            "  Downloading langgraph-0.4.8-py3-none-any.whl.metadata (6.8 kB)\n",
            "Requirement already satisfied: langchain-core<1.0.0,>=0.3.49 in /usr/local/lib/python3.11/dist-packages (from langchain_groq) (0.3.63)\n",
            "Collecting groq<1,>=0.4.1 (from langchain_groq)\n",
            "  Downloading groq-0.26.0-py3-none-any.whl.metadata (15 kB)\n",
            "Collecting langgraph-checkpoint>=2.0.26 (from langgraph)\n",
            "  Downloading langgraph_checkpoint-2.0.26-py3-none-any.whl.metadata (4.6 kB)\n",
            "Collecting langgraph-prebuilt>=0.2.0 (from langgraph)\n",
            "  Downloading langgraph_prebuilt-0.2.2-py3-none-any.whl.metadata (4.5 kB)\n",
            "Collecting langgraph-sdk>=0.1.42 (from langgraph)\n",
            "  Downloading langgraph_sdk-0.1.70-py3-none-any.whl.metadata (1.5 kB)\n",
            "Requirement already satisfied: pydantic>=2.7.4 in /usr/local/lib/python3.11/dist-packages (from langgraph) (2.11.5)\n",
            "Requirement already satisfied: xxhash>=3.5.0 in /usr/local/lib/python3.11/dist-packages (from langgraph) (3.5.0)\n",
            "Requirement already satisfied: anyio<5,>=3.5.0 in /usr/local/lib/python3.11/dist-packages (from groq<1,>=0.4.1->langchain_groq) (4.9.0)\n",
            "Requirement already satisfied: distro<2,>=1.7.0 in /usr/local/lib/python3.11/dist-packages (from groq<1,>=0.4.1->langchain_groq) (1.9.0)\n",
            "Requirement already satisfied: httpx<1,>=0.23.0 in /usr/local/lib/python3.11/dist-packages (from groq<1,>=0.4.1->langchain_groq) (0.28.1)\n",
            "Requirement already satisfied: sniffio in /usr/local/lib/python3.11/dist-packages (from groq<1,>=0.4.1->langchain_groq) (1.3.1)\n",
            "Requirement already satisfied: typing-extensions<5,>=4.10 in /usr/local/lib/python3.11/dist-packages (from groq<1,>=0.4.1->langchain_groq) (4.14.0)\n",
            "Requirement already satisfied: langsmith<0.4,>=0.1.126 in /usr/local/lib/python3.11/dist-packages (from langchain-core<1.0.0,>=0.3.49->langchain_groq) (0.3.44)\n",
            "Requirement already satisfied: tenacity!=8.4.0,<10.0.0,>=8.1.0 in /usr/local/lib/python3.11/dist-packages (from langchain-core<1.0.0,>=0.3.49->langchain_groq) (9.1.2)\n",
            "Requirement already satisfied: jsonpatch<2.0,>=1.33 in /usr/local/lib/python3.11/dist-packages (from langchain-core<1.0.0,>=0.3.49->langchain_groq) (1.33)\n",
            "Requirement already satisfied: PyYAML>=5.3 in /usr/local/lib/python3.11/dist-packages (from langchain-core<1.0.0,>=0.3.49->langchain_groq) (6.0.2)\n",
            "Requirement already satisfied: packaging<25,>=23.2 in /usr/local/lib/python3.11/dist-packages (from langchain-core<1.0.0,>=0.3.49->langchain_groq) (24.2)\n",
            "Collecting ormsgpack<2.0.0,>=1.8.0 (from langgraph-checkpoint>=2.0.26->langgraph)\n",
            "  Downloading ormsgpack-1.10.0-cp311-cp311-manylinux_2_17_x86_64.manylinux2014_x86_64.whl.metadata (43 kB)\n",
            "\u001b[2K     \u001b[90m━━━━━━━━━━━━━━━━━━━━━━━━━━━━━━━━━━━━━━━━\u001b[0m \u001b[32m43.7/43.7 kB\u001b[0m \u001b[31m1.6 MB/s\u001b[0m eta \u001b[36m0:00:00\u001b[0m\n",
            "\u001b[?25hRequirement already satisfied: orjson>=3.10.1 in /usr/local/lib/python3.11/dist-packages (from langgraph-sdk>=0.1.42->langgraph) (3.10.18)\n",
            "Requirement already satisfied: annotated-types>=0.6.0 in /usr/local/lib/python3.11/dist-packages (from pydantic>=2.7.4->langgraph) (0.7.0)\n",
            "Requirement already satisfied: pydantic-core==2.33.2 in /usr/local/lib/python3.11/dist-packages (from pydantic>=2.7.4->langgraph) (2.33.2)\n",
            "Requirement already satisfied: typing-inspection>=0.4.0 in /usr/local/lib/python3.11/dist-packages (from pydantic>=2.7.4->langgraph) (0.4.1)\n",
            "Requirement already satisfied: idna>=2.8 in /usr/local/lib/python3.11/dist-packages (from anyio<5,>=3.5.0->groq<1,>=0.4.1->langchain_groq) (3.10)\n",
            "Requirement already satisfied: certifi in /usr/local/lib/python3.11/dist-packages (from httpx<1,>=0.23.0->groq<1,>=0.4.1->langchain_groq) (2025.4.26)\n",
            "Requirement already satisfied: httpcore==1.* in /usr/local/lib/python3.11/dist-packages (from httpx<1,>=0.23.0->groq<1,>=0.4.1->langchain_groq) (1.0.9)\n",
            "Requirement already satisfied: h11>=0.16 in /usr/local/lib/python3.11/dist-packages (from httpcore==1.*->httpx<1,>=0.23.0->groq<1,>=0.4.1->langchain_groq) (0.16.0)\n",
            "Requirement already satisfied: jsonpointer>=1.9 in /usr/local/lib/python3.11/dist-packages (from jsonpatch<2.0,>=1.33->langchain-core<1.0.0,>=0.3.49->langchain_groq) (3.0.0)\n",
            "Requirement already satisfied: requests<3,>=2 in /usr/local/lib/python3.11/dist-packages (from langsmith<0.4,>=0.1.126->langchain-core<1.0.0,>=0.3.49->langchain_groq) (2.32.3)\n",
            "Requirement already satisfied: requests-toolbelt<2.0.0,>=1.0.0 in /usr/local/lib/python3.11/dist-packages (from langsmith<0.4,>=0.1.126->langchain-core<1.0.0,>=0.3.49->langchain_groq) (1.0.0)\n",
            "Requirement already satisfied: zstandard<0.24.0,>=0.23.0 in /usr/local/lib/python3.11/dist-packages (from langsmith<0.4,>=0.1.126->langchain-core<1.0.0,>=0.3.49->langchain_groq) (0.23.0)\n",
            "Requirement already satisfied: charset-normalizer<4,>=2 in /usr/local/lib/python3.11/dist-packages (from requests<3,>=2->langsmith<0.4,>=0.1.126->langchain-core<1.0.0,>=0.3.49->langchain_groq) (3.4.2)\n",
            "Requirement already satisfied: urllib3<3,>=1.21.1 in /usr/local/lib/python3.11/dist-packages (from requests<3,>=2->langsmith<0.4,>=0.1.126->langchain-core<1.0.0,>=0.3.49->langchain_groq) (2.4.0)\n",
            "Downloading langchain_groq-0.3.2-py3-none-any.whl (15 kB)\n",
            "Downloading langgraph-0.4.8-py3-none-any.whl (152 kB)\n",
            "\u001b[2K   \u001b[90m━━━━━━━━━━━━━━━━━━━━━━━━━━━━━━━━━━━━━━━━\u001b[0m \u001b[32m152.4/152.4 kB\u001b[0m \u001b[31m7.6 MB/s\u001b[0m eta \u001b[36m0:00:00\u001b[0m\n",
            "\u001b[?25hDownloading groq-0.26.0-py3-none-any.whl (129 kB)\n",
            "\u001b[2K   \u001b[90m━━━━━━━━━━━━━━━━━━━━━━━━━━━━━━━━━━━━━━━━\u001b[0m \u001b[32m129.6/129.6 kB\u001b[0m \u001b[31m10.1 MB/s\u001b[0m eta \u001b[36m0:00:00\u001b[0m\n",
            "\u001b[?25hDownloading langgraph_checkpoint-2.0.26-py3-none-any.whl (44 kB)\n",
            "\u001b[2K   \u001b[90m━━━━━━━━━━━━━━━━━━━━━━━━━━━━━━━━━━━━━━━━\u001b[0m \u001b[32m44.2/44.2 kB\u001b[0m \u001b[31m2.9 MB/s\u001b[0m eta \u001b[36m0:00:00\u001b[0m\n",
            "\u001b[?25hDownloading langgraph_prebuilt-0.2.2-py3-none-any.whl (23 kB)\n",
            "Downloading langgraph_sdk-0.1.70-py3-none-any.whl (49 kB)\n",
            "\u001b[2K   \u001b[90m━━━━━━━━━━━━━━━━━━━━━━━━━━━━━━━━━━━━━━━━\u001b[0m \u001b[32m50.0/50.0 kB\u001b[0m \u001b[31m3.5 MB/s\u001b[0m eta \u001b[36m0:00:00\u001b[0m\n",
            "\u001b[?25hDownloading ormsgpack-1.10.0-cp311-cp311-manylinux_2_17_x86_64.manylinux2014_x86_64.whl (216 kB)\n",
            "\u001b[2K   \u001b[90m━━━━━━━━━━━━━━━━━━━━━━━━━━━━━━━━━━━━━━━━\u001b[0m \u001b[32m216.5/216.5 kB\u001b[0m \u001b[31m14.9 MB/s\u001b[0m eta \u001b[36m0:00:00\u001b[0m\n",
            "\u001b[?25hInstalling collected packages: ormsgpack, langgraph-sdk, groq, langgraph-checkpoint, langchain_groq, langgraph-prebuilt, langgraph\n",
            "Successfully installed groq-0.26.0 langchain_groq-0.3.2 langgraph-0.4.8 langgraph-checkpoint-2.0.26 langgraph-prebuilt-0.2.2 langgraph-sdk-0.1.70 ormsgpack-1.10.0\n"
          ]
        }
      ]
    },
    {
      "cell_type": "code",
      "execution_count": 2,
      "metadata": {
        "id": "O2v4TOkQ81Q8"
      },
      "outputs": [],
      "source": [
        "from typing import TypedDict,List,Union\n",
        "from langgraph.graph import StateGraph,START,END\n",
        "from langchain_groq import ChatGroq\n",
        "from langchain_core.messages import HumanMessage,AIMessage"
      ]
    },
    {
      "cell_type": "code",
      "source": [
        "from google.colab import userdata\n",
        "groq_api_key=userdata.get('groq_api')"
      ],
      "metadata": {
        "id": "sEUYPemG9CuG"
      },
      "execution_count": 3,
      "outputs": []
    },
    {
      "cell_type": "code",
      "source": [
        "class Agentstate(TypedDict):\n",
        "  message:List[Union[\"HumanMessage\",\"AIMessage\"]]"
      ],
      "metadata": {
        "id": "NWIbCHf4qgWb"
      },
      "execution_count": 4,
      "outputs": []
    },
    {
      "cell_type": "code",
      "source": [
        "llm = ChatGroq(groq_api_key=groq_api_key,\n",
        "               model_name=\"qwen-qwq-32b\")"
      ],
      "metadata": {
        "id": "dvzs4Nl--UwU"
      },
      "execution_count": 5,
      "outputs": []
    },
    {
      "cell_type": "code",
      "source": [
        "def chatbot(state:Agentstate)->Agentstate:\n",
        "  response=llm.invoke(state['message'])\n",
        "  state['message'].append(AIMessage(content=response.content))\n",
        "  print(f\"AI : {state['message']}\")\n",
        "  print(f\"current_state  : {state['message']}\")\n",
        "\n",
        "  return state"
      ],
      "metadata": {
        "id": "25WV82WAXXKV"
      },
      "execution_count": 6,
      "outputs": []
    },
    {
      "cell_type": "code",
      "source": [
        "graph=StateGraph(Agentstate)"
      ],
      "metadata": {
        "id": "hCEtebXR5XUA"
      },
      "execution_count": 7,
      "outputs": []
    },
    {
      "cell_type": "code",
      "source": [
        "graph.add_node(\"chatbot\",chatbot)\n",
        "graph.add_edge(START,\"chatbot\")\n",
        "graph.add_edge(\"chatbot\",END)\n",
        "app=graph.compile()\n",
        "graph.compile()"
      ],
      "metadata": {
        "colab": {
          "base_uri": "https://localhost:8080/",
          "height": 251
        },
        "id": "WznAkKVQ5km4",
        "outputId": "339246cd-28b9-4fa0-ab74-40a88d26739f"
      },
      "execution_count": 8,
      "outputs": [
        {
          "output_type": "execute_result",
          "data": {
            "text/plain": [
              "<langgraph.graph.state.CompiledStateGraph object at 0x7fa54aae5110>"
            ],
            "image/png": "[encoded data removed]"
          },
          "metadata": {},
          "execution_count": 8
        }
      ]
    },
    {
      "cell_type": "code",
      "source": [
        "conversational_history=[]\n",
        "user_input=input(\"Enter: \")\n",
        "\n",
        "while user_input!=\"exit\":\n",
        "  conversational_history.append(HumanMessage(content=user_input))\n",
        "  result=app.invoke({'message':conversational_history})\n",
        "  # print(result['message'][-1].content.split(\"</think>\")[-1].strip())\n",
        "  conversational_history=result['message']\n",
        "  user_input=input(\"Enter: \")"
      ],
      "metadata": {
        "colab": {
          "base_uri": "https://localhost:8080/"
        },
        "id": "lOfyOOAB5uMx",
        "outputId": "a0018ca0-b55a-46ea-cfa1-4da941c850d9"
      },
      "execution_count": 15,
      "outputs": [
        {
          "name": "stdout",
          "output_type": "stream",
          "text": [
            "Enter: hi\n",
            "AI : [HumanMessage(content='hi', additional_kwargs={}, response_metadata={}), AIMessage(content='\\n<think>\\nOkay, the user just said \"hi\". I should respond in a friendly way. Let me think of a simple greeting. Maybe \"Hello! How can I assist you today?\" That sounds good. It\\'s welcoming and opens the door for them to ask for help. I should make sure there\\'s no markdown, just plain text. Alright, that should work.\\n</think>\\n\\nHello! How can I assist you today?', additional_kwargs={}, response_metadata={})]\n",
            "current_state  : [HumanMessage(content='hi', additional_kwargs={}, response_metadata={}), AIMessage(content='\\n<think>\\nOkay, the user just said \"hi\". I should respond in a friendly way. Let me think of a simple greeting. Maybe \"Hello! How can I assist you today?\" That sounds good. It\\'s welcoming and opens the door for them to ask for help. I should make sure there\\'s no markdown, just plain text. Alright, that should work.\\n</think>\\n\\nHello! How can I assist you today?', additional_kwargs={}, response_metadata={})]\n",
            "Enter: my name is sam\n",
            "AI : [HumanMessage(content='hi', additional_kwargs={}, response_metadata={}), AIMessage(content='\\n<think>\\nOkay, the user just said \"hi\". I should respond in a friendly way. Let me think of a simple greeting. Maybe \"Hello! How can I assist you today?\" That sounds good. It\\'s welcoming and opens the door for them to ask for help. I should make sure there\\'s no markdown, just plain text. Alright, that should work.\\n</think>\\n\\nHello! How can I assist you today?', additional_kwargs={}, response_metadata={}), HumanMessage(content='my name is sam', additional_kwargs={}, response_metadata={}), AIMessage(content='\\n<think>\\nOkay, the user said \"my name is sam\". I need to respond appropriately. Let me start by acknowledging their name. I should say hello again and mention their name to make it personal. Then, maybe ask them how I can help them today. Keep it friendly and open-ended. Let me check if there\\'s anything else I need to consider. The previous messages were in English, so I\\'ll stick with that. No need for any markdown, just a simple response. Alright, that should work.\\n</think>\\n\\nHello Sam! How can I assist you today?', additional_kwargs={}, response_metadata={})]\n",
            "current_state  : [HumanMessage(content='hi', additional_kwargs={}, response_metadata={}), AIMessage(content='\\n<think>\\nOkay, the user just said \"hi\". I should respond in a friendly way. Let me think of a simple greeting. Maybe \"Hello! How can I assist you today?\" That sounds good. It\\'s welcoming and opens the door for them to ask for help. I should make sure there\\'s no markdown, just plain text. Alright, that should work.\\n</think>\\n\\nHello! How can I assist you today?', additional_kwargs={}, response_metadata={}), HumanMessage(content='my name is sam', additional_kwargs={}, response_metadata={}), AIMessage(content='\\n<think>\\nOkay, the user said \"my name is sam\". I need to respond appropriately. Let me start by acknowledging their name. I should say hello again and mention their name to make it personal. Then, maybe ask them how I can help them today. Keep it friendly and open-ended. Let me check if there\\'s anything else I need to consider. The previous messages were in English, so I\\'ll stick with that. No need for any markdown, just a simple response. Alright, that should work.\\n</think>\\n\\nHello Sam! How can I assist you today?', additional_kwargs={}, response_metadata={})]\n",
            "Enter: tlle me a joke\n",
            "AI : [HumanMessage(content='hi', additional_kwargs={}, response_metadata={}), AIMessage(content='\\n<think>\\nOkay, the user just said \"hi\". I should respond in a friendly way. Let me think of a simple greeting. Maybe \"Hello! How can I assist you today?\" That sounds good. It\\'s welcoming and opens the door for them to ask for help. I should make sure there\\'s no markdown, just plain text. Alright, that should work.\\n</think>\\n\\nHello! How can I assist you today?', additional_kwargs={}, response_metadata={}), HumanMessage(content='my name is sam', additional_kwargs={}, response_metadata={}), AIMessage(content='\\n<think>\\nOkay, the user said \"my name is sam\". I need to respond appropriately. Let me start by acknowledging their name. I should say hello again and mention their name to make it personal. Then, maybe ask them how I can help them today. Keep it friendly and open-ended. Let me check if there\\'s anything else I need to consider. The previous messages were in English, so I\\'ll stick with that. No need for any markdown, just a simple response. Alright, that should work.\\n</think>\\n\\nHello Sam! How can I assist you today?', additional_kwargs={}, response_metadata={}), HumanMessage(content='tlle me a joke', additional_kwargs={}, response_metadata={}), AIMessage(content='\\n<think>\\nOkay, the user is Sam and he asked for a joke. Let me think of a good one. I should make sure it\\'s appropriate and not too complicated.\\n\\nHmm, maybe something tech-related since I\\'m an AI? How about a computer joke? Let me see... Oh, the classic \"What do you call a fake noodle?\" joke. Wait, that\\'s \"An impasta.\" Yeah, that\\'s a good one. It\\'s simple and punny. \\n\\nWait, the user\\'s name is Sam. Maybe I can tailor the punchline to include his name for a personal touch. Let me try: \"Why did Sam the computer go to the doctor? Because it had a byte infection!\" \\n\\nWait, \"byte\" instead of \"bite\" infection. That\\'s a play on words related to computers. Does that make sense? The doctor joke structure works. Let me check if \"byte infection\" is clear. I think it\\'s okay. It\\'s a common pun. \\n\\nAlternatively, maybe the impasta joke is safer since it\\'s more general. But adding the user\\'s name could make it more engaging. Let me go with the Sam one. Let me also think of another one in case. \\n\\nOr maybe combine both? Start with the impasta as the main joke, then add the Sam one as a bonus. That way, there\\'s more content. \\n\\nWait, the user might prefer a short joke. Let me present both options. First, the impasta one, then the personalized one. That way Sam gets two jokes. \\n\\nAlso, check for any possible misunderstandings. The impasta is a pun on \"pasta\" and \"impostor.\" The byte infection is a play on \"byte\" and \"bite,\" which relates to computers. Both are clean and appropriate. \\n\\nAlright, let\\'s go with that. I\\'ll present them both to give Sam a good laugh.\\n</think>\\n\\nSure! Here\\'s a light-hearted one for you, Sam:  \\n\\n**Why did the computer go to the doctor?**  \\n*Because it had a **byte** infection!* 🤖😄  \\n\\n(And if you’re into food puns: *What do you call a fake noodle? An **impasta**!*)  \\n\\nNeed another one? Just ask!', additional_kwargs={}, response_metadata={})]\n",
            "current_state  : [HumanMessage(content='hi', additional_kwargs={}, response_metadata={}), AIMessage(content='\\n<think>\\nOkay, the user just said \"hi\". I should respond in a friendly way. Let me think of a simple greeting. Maybe \"Hello! How can I assist you today?\" That sounds good. It\\'s welcoming and opens the door for them to ask for help. I should make sure there\\'s no markdown, just plain text. Alright, that should work.\\n</think>\\n\\nHello! How can I assist you today?', additional_kwargs={}, response_metadata={}), HumanMessage(content='my name is sam', additional_kwargs={}, response_metadata={}), AIMessage(content='\\n<think>\\nOkay, the user said \"my name is sam\". I need to respond appropriately. Let me start by acknowledging their name. I should say hello again and mention their name to make it personal. Then, maybe ask them how I can help them today. Keep it friendly and open-ended. Let me check if there\\'s anything else I need to consider. The previous messages were in English, so I\\'ll stick with that. No need for any markdown, just a simple response. Alright, that should work.\\n</think>\\n\\nHello Sam! How can I assist you today?', additional_kwargs={}, response_metadata={}), HumanMessage(content='tlle me a joke', additional_kwargs={}, response_metadata={}), AIMessage(content='\\n<think>\\nOkay, the user is Sam and he asked for a joke. Let me think of a good one. I should make sure it\\'s appropriate and not too complicated.\\n\\nHmm, maybe something tech-related since I\\'m an AI? How about a computer joke? Let me see... Oh, the classic \"What do you call a fake noodle?\" joke. Wait, that\\'s \"An impasta.\" Yeah, that\\'s a good one. It\\'s simple and punny. \\n\\nWait, the user\\'s name is Sam. Maybe I can tailor the punchline to include his name for a personal touch. Let me try: \"Why did Sam the computer go to the doctor? Because it had a byte infection!\" \\n\\nWait, \"byte\" instead of \"bite\" infection. That\\'s a play on words related to computers. Does that make sense? The doctor joke structure works. Let me check if \"byte infection\" is clear. I think it\\'s okay. It\\'s a common pun. \\n\\nAlternatively, maybe the impasta joke is safer since it\\'s more general. But adding the user\\'s name could make it more engaging. Let me go with the Sam one. Let me also think of another one in case. \\n\\nOr maybe combine both? Start with the impasta as the main joke, then add the Sam one as a bonus. That way, there\\'s more content. \\n\\nWait, the user might prefer a short joke. Let me present both options. First, the impasta one, then the personalized one. That way Sam gets two jokes. \\n\\nAlso, check for any possible misunderstandings. The impasta is a pun on \"pasta\" and \"impostor.\" The byte infection is a play on \"byte\" and \"bite,\" which relates to computers. Both are clean and appropriate. \\n\\nAlright, let\\'s go with that. I\\'ll present them both to give Sam a good laugh.\\n</think>\\n\\nSure! Here\\'s a light-hearted one for you, Sam:  \\n\\n**Why did the computer go to the doctor?**  \\n*Because it had a **byte** infection!* 🤖😄  \\n\\n(And if you’re into food puns: *What do you call a fake noodle? An **impasta**!*)  \\n\\nNeed another one? Just ask!', additional_kwargs={}, response_metadata={})]\n",
            "Enter: exit\n"
          ]
        }
      ]
    },
    {
      "cell_type": "code",
      "source": [
        "with open(\"me.txt\",'w') as file:\n",
        "  file.write(\"Your conversation Log:\\n\")\n",
        "  for message in conversational_history:\n",
        "    if isinstance(message,HumanMessage):\n",
        "      file.write(f\"Human: {message.content}\\n\")\n",
        "    else:\n",
        "      file.write(f\"AI: {message.content}\\n\\n\")\n",
        "  file.write(\"End of Conversation\")\n",
        "\n",
        "print(\"Conversation saved to me.txt\")"
      ],
      "metadata": {
        "colab": {
          "base_uri": "https://localhost:8080/"
        },
        "id": "sl4pnGtGm-1M",
        "outputId": "1e2043fd-f27f-4388-8e79-4baa62fb7175"
      },
      "execution_count": 16,
      "outputs": [
        {
          "output_type": "stream",
          "name": "stdout",
          "text": [
            "Conversation saved to me.txt\n"
          ]
        }
      ]
    },
    {
      "cell_type": "code",
      "source": [],
      "metadata": {
        "id": "hAqvN7OJnPTe"
      },
      "execution_count": null,
      "outputs": []
    }
  ]
}