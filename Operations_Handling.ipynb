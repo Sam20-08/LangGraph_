{
  "nbformat": 4,
  "nbformat_minor": 0,
  "metadata": {
    "colab": {
      "provenance": []
    },
    "kernelspec": {
      "name": "python3",
      "display_name": "Python 3"
    },
    "language_info": {
      "name": "python"
    }
  },
  "cells": [
    {
      "cell_type": "code",
      "source": [
        "from typing import TypedDict,List\n",
        "from langgraph.graph import StateGraph\n",
        "import math"
      ],
      "metadata": {
        "id": "fRvxkYYhVZ2C"
      },
      "execution_count": 1,
      "outputs": []
    },
    {
      "cell_type": "code",
      "source": [
        "class Agentstate(TypedDict):\n",
        "  values:List\n",
        "  name:str\n",
        "  operation:str\n",
        "  result: str"
      ],
      "metadata": {
        "id": "V4uSNa_1VdrI"
      },
      "execution_count": 11,
      "outputs": []
    },
    {
      "cell_type": "code",
      "source": [
        "def operation(state:Agentstate)->Agentstate:\n",
        "  state['result'] = (\n",
        "        f\"Hi {state['name']}, Your answer is \"\n",
        "        f\"{sum(state['values']) if state['operation'] == '+' else math.prod(state['values'])}\"\n",
        "    )\n",
        "  return state\n"
      ],
      "metadata": {
        "id": "bYQb0LdOVnfU"
      },
      "execution_count": 14,
      "outputs": []
    },
    {
      "cell_type": "code",
      "source": [
        "graph=StateGraph(Agentstate)"
      ],
      "metadata": {
        "id": "MIWOlcDfW4fv"
      },
      "execution_count": 15,
      "outputs": []
    },
    {
      "cell_type": "code",
      "source": [
        "graph.add_node(\"operations\",operation)\n",
        "graph.set_entry_point(\"operations\")\n",
        "graph.set_finish_point(\"operations\")\n",
        "graph.compile()"
      ],
      "metadata": {
        "colab": {
          "base_uri": "https://localhost:8080/",
          "height": 251
        },
        "id": "GRHoSesiXA7I",
        "outputId": "5178c063-3cc7-4b3c-a861-eabb87c2b3c6"
      },
      "execution_count": 16,
      "outputs": [
        {
          "output_type": "execute_result",
          "data": {
            "text/plain": [
              "<langgraph.graph.state.CompiledStateGraph object at 0x7eb51d3ba510>"
            ],
            "image/png": "[encoded data removed]"
          },
          "metadata": {},
          "execution_count": 16
        }
      ]
    },
    {
      "cell_type": "code",
      "source": [
        "app=graph.compile()"
      ],
      "metadata": {
        "id": "n6EDi-wrXP7g"
      },
      "execution_count": 17,
      "outputs": []
    },
    {
      "cell_type": "code",
      "source": [
        "ans=app.invoke({'values':[1,2,5],'name':'sam','operation':'*'})"
      ],
      "metadata": {
        "id": "syGft13VXVHb"
      },
      "execution_count": 23,
      "outputs": []
    },
    {
      "cell_type": "code",
      "source": [
        "print(ans)"
      ],
      "metadata": {
        "colab": {
          "base_uri": "https://localhost:8080/"
        },
        "id": "BCGlUqS_XemY",
        "outputId": "88ecd11f-6149-4aec-b47c-4b419aaf6b7c"
      },
      "execution_count": 24,
      "outputs": [
        {
          "output_type": "stream",
          "name": "stdout",
          "text": [
            "{'values': [1, 2, 5], 'name': 'sam', 'operation': '*', 'result': 'Hi sam, Your answer is 10'}\n"
          ]
        }
      ]
    },
    {
      "cell_type": "code",
      "source": [
        "ans=app.invoke({'values':[1,2,5],'name':'sam','operation':'+'})"
      ],
      "metadata": {
        "id": "GXorMebGXhAr"
      },
      "execution_count": 26,
      "outputs": []
    },
    {
      "cell_type": "code",
      "source": [
        "print(ans)"
      ],
      "metadata": {
        "colab": {
          "base_uri": "https://localhost:8080/"
        },
        "id": "DTbAeQhjXiLc",
        "outputId": "8b20cced-9d67-4a01-f052-370df2e64deb"
      },
      "execution_count": 27,
      "outputs": [
        {
          "output_type": "stream",
          "name": "stdout",
          "text": [
            "{'values': [1, 2, 5], 'name': 'sam', 'operation': '+', 'result': 'Hi sam, Your answer is 8'}\n"
          ]
        }
      ]
    },
    {
      "cell_type": "code",
      "source": [
        ""
      ],
      "metadata": {
        "id": "y1dsUTlkZk8f"
      },
      "execution_count": null,
      "outputs": []
    }
  ]
}